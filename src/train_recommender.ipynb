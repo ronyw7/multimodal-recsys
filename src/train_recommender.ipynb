{
 "cells": [
  {
   "cell_type": "markdown",
   "metadata": {},
   "source": [
    "# 1. Preparing the dataset"
   ]
  },
  {
   "cell_type": "markdown",
   "metadata": {},
   "source": [
    "In this project, we utilize pre-trained representations to augment GNN abilities. \n",
    "- We assume that `src/embeddings/data` already contains the image and text embeddings necessary for training. \n",
    "- Please refer to `README.md` and the blogpost on how we prepared the embeddings using OpenAI's CLIP encoders."
   ]
  },
  {
   "cell_type": "markdown",
   "metadata": {},
   "source": [
    "We use the multi-modal Google Restaurants dataset, collected by [Yan et al. (2022)](https://cseweb.ucsd.edu/~jmcauley/datasets.html#google_restaurants)."
   ]
  },
  {
   "cell_type": "code",
   "execution_count": 3,
   "metadata": {},
   "outputs": [
    {
     "name": "stdout",
     "output_type": "stream",
     "text": [
      "Shape of training data: (87013, 6)\n"
     ]
    }
   ],
   "source": [
    "import json\n",
    "import pandas as pd\n",
    "\n",
    "with open('data/filter_all_t.json', 'r') as file:\n",
    "    data = json.load(file)\n",
    "\n",
    "df = pd.DataFrame(data[\"train\"])\n",
    "\n",
    "print(\"Shape of training data:\", df.shape)"
   ]
  },
  {
   "cell_type": "markdown",
   "metadata": {},
   "source": [
    "The original dataset ships with three splits. We will work with the training set as it contains enough datapoints for our purposes. We will split it into our own train, validation, and test sets.\n",
    "\n",
    "Each row in the original dataset has `business_id`, `user_id`, `rating`, `review_text`, `pics`, and `history_reviews`. As mentioned, we have preprocessed and stored each piece of review text and picture that can be easily looked up by their unique IDs."
   ]
  },
  {
   "cell_type": "code",
   "execution_count": 4,
   "metadata": {},
   "outputs": [
    {
     "data": {
      "text/html": [
       "<div>\n",
       "<style scoped>\n",
       "    .dataframe tbody tr th:only-of-type {\n",
       "        vertical-align: middle;\n",
       "    }\n",
       "\n",
       "    .dataframe tbody tr th {\n",
       "        vertical-align: top;\n",
       "    }\n",
       "\n",
       "    .dataframe thead th {\n",
       "        text-align: right;\n",
       "    }\n",
       "</style>\n",
       "<table border=\"1\" class=\"dataframe\">\n",
       "  <thead>\n",
       "    <tr style=\"text-align: right;\">\n",
       "      <th></th>\n",
       "      <th>business_id</th>\n",
       "      <th>user_id</th>\n",
       "      <th>rating</th>\n",
       "      <th>review_text</th>\n",
       "      <th>pics</th>\n",
       "      <th>history_reviews</th>\n",
       "    </tr>\n",
       "  </thead>\n",
       "  <tbody>\n",
       "    <tr>\n",
       "      <th>0</th>\n",
       "      <td>60567465d335d0abfb415b26</td>\n",
       "      <td>101074926318992653684</td>\n",
       "      <td>4</td>\n",
       "      <td>The tang of the tomato sauce is outstanding. A...</td>\n",
       "      <td>[AF1QipM-2IRmvitARbcJr7deWfe5hyVBg_ArPMQSYvq0,...</td>\n",
       "      <td>[[101074926318992653684_6056272797d555cc6fb0d1...</td>\n",
       "    </tr>\n",
       "    <tr>\n",
       "      <th>1</th>\n",
       "      <td>6050fa9f5b4ccec8d5cae994</td>\n",
       "      <td>117065749986299237881</td>\n",
       "      <td>5</td>\n",
       "      <td>Chicken and waffles were really good!</td>\n",
       "      <td>[AF1QipMpfxIZUT_aymQ3qPGO-QgGYzxbtLZGmHufAp2s]</td>\n",
       "      <td>[[117065749986299237881_605206f8d8c08f462b93e8...</td>\n",
       "    </tr>\n",
       "    <tr>\n",
       "      <th>2</th>\n",
       "      <td>604be10877e81aaed3cc9a1e</td>\n",
       "      <td>106700937793048450809</td>\n",
       "      <td>4</td>\n",
       "      <td>The appetizer of colossal shrimp was very good...</td>\n",
       "      <td>[AF1QipMNnqM5X9sSyZ9pXRZ1jvrURHN9bZhGdzuEXoP8,...</td>\n",
       "      <td>[[106700937793048450809_6044300b27f39b7b5d1dbf...</td>\n",
       "    </tr>\n",
       "    <tr>\n",
       "      <th>3</th>\n",
       "      <td>60411e017cd8bf130362365a</td>\n",
       "      <td>101643045857250355161</td>\n",
       "      <td>5</td>\n",
       "      <td>The fish tacos here  omg! The salad was great ...</td>\n",
       "      <td>[AF1QipM-a6AGGp4Hgk5RD0gY5sDRp5kEfB1hZLvlRkft,...</td>\n",
       "      <td>[[101643045857250355161_604fbdd099686c10168c91...</td>\n",
       "    </tr>\n",
       "    <tr>\n",
       "      <th>4</th>\n",
       "      <td>604139dd7cd8bf1303624208</td>\n",
       "      <td>109802745326785766951</td>\n",
       "      <td>4</td>\n",
       "      <td>Ribs are great, as are the mac and cheese, fri...</td>\n",
       "      <td>[AF1QipNVys4yq-5w_3EsDdHpSc9ZNb7Nl30Mfb6Y0Gup]</td>\n",
       "      <td>[[109802745326785766951_60524fa9f09a4ffff042f9...</td>\n",
       "    </tr>\n",
       "  </tbody>\n",
       "</table>\n",
       "</div>"
      ],
      "text/plain": [
       "                business_id                user_id  rating  \\\n",
       "0  60567465d335d0abfb415b26  101074926318992653684       4   \n",
       "1  6050fa9f5b4ccec8d5cae994  117065749986299237881       5   \n",
       "2  604be10877e81aaed3cc9a1e  106700937793048450809       4   \n",
       "3  60411e017cd8bf130362365a  101643045857250355161       5   \n",
       "4  604139dd7cd8bf1303624208  109802745326785766951       4   \n",
       "\n",
       "                                         review_text  \\\n",
       "0  The tang of the tomato sauce is outstanding. A...   \n",
       "1              Chicken and waffles were really good!   \n",
       "2  The appetizer of colossal shrimp was very good...   \n",
       "3  The fish tacos here  omg! The salad was great ...   \n",
       "4  Ribs are great, as are the mac and cheese, fri...   \n",
       "\n",
       "                                                pics  \\\n",
       "0  [AF1QipM-2IRmvitARbcJr7deWfe5hyVBg_ArPMQSYvq0,...   \n",
       "1     [AF1QipMpfxIZUT_aymQ3qPGO-QgGYzxbtLZGmHufAp2s]   \n",
       "2  [AF1QipMNnqM5X9sSyZ9pXRZ1jvrURHN9bZhGdzuEXoP8,...   \n",
       "3  [AF1QipM-a6AGGp4Hgk5RD0gY5sDRp5kEfB1hZLvlRkft,...   \n",
       "4     [AF1QipNVys4yq-5w_3EsDdHpSc9ZNb7Nl30Mfb6Y0Gup]   \n",
       "\n",
       "                                     history_reviews  \n",
       "0  [[101074926318992653684_6056272797d555cc6fb0d1...  \n",
       "1  [[117065749986299237881_605206f8d8c08f462b93e8...  \n",
       "2  [[106700937793048450809_6044300b27f39b7b5d1dbf...  \n",
       "3  [[101643045857250355161_604fbdd099686c10168c91...  \n",
       "4  [[109802745326785766951_60524fa9f09a4ffff042f9...  "
      ]
     },
     "execution_count": 4,
     "metadata": {},
     "output_type": "execute_result"
    }
   ],
   "source": [
    "df.head()"
   ]
  },
  {
   "cell_type": "markdown",
   "metadata": {},
   "source": [
    "Let us map `user_id`s and `business_id`s to consecutive values so they are easier to work with."
   ]
  },
  {
   "cell_type": "code",
   "execution_count": 5,
   "metadata": {},
   "outputs": [],
   "source": [
    "def create_id_mappings(data):\n",
    "  '''\n",
    "  Args:\n",
    "    data (pd.DataFrame)\n",
    "  Returns:\n",
    "    data (pd.DataFrame)\n",
    "    user_id_map (dict)\n",
    "    business_id_map (dict)\n",
    "  '''\n",
    "  # Create a dictionary mapping user_id to consecutive values [0,..., n]\n",
    "  user_id_map = {idx: i for i, idx in enumerate(data[\"user_id\"].unique())}\n",
    "  # Create a dictionary mapping business_id to consecutive values [0,..., m]\n",
    "  business_id_map = {idx: i for i, idx in enumerate(data[\"business_id\"].unique())}\n",
    "\n",
    "  # Extend the dataframe with new ids\n",
    "  data[\"u_id\"] = data[\"user_id\"].map(user_id_map)\n",
    "  data[\"b_id\"] = data[\"business_id\"].map(business_id_map)\n",
    "  data[\"r_id\"] = data.index\n",
    "\n",
    "  return data, user_id_map, business_id_map"
   ]
  },
  {
   "cell_type": "code",
   "execution_count": 6,
   "metadata": {},
   "outputs": [
    {
     "name": "stdout",
     "output_type": "stream",
     "text": [
      "The number of users:  29596\n",
      "The number of businesses:  27896\n",
      "The number of nodes:  57492\n"
     ]
    }
   ],
   "source": [
    "data, user_id_map, business_id_map = create_id_mappings(df)\n",
    "num_users, num_businesses = len(user_id_map), len(business_id_map)\n",
    "num_nodes = num_users + num_businesses\n",
    "\n",
    "print(\"The number of users: \", num_users)\n",
    "print(\"The number of businesses: \", num_businesses)\n",
    "print(\"The number of nodes: \", num_nodes)\n"
   ]
  },
  {
   "cell_type": "markdown",
   "metadata": {},
   "source": [
    "We load image and text embeddings into memory. For extremely large datasets, it would be more efficient to utilize some vector store here.\n",
    "\n",
    "Additionally, we have pre-computed two dictionaries: one maps each business to its associated image IDs, and the other maps each user to their associated text IDs. The idea is to later represent each business as the aggregation of its image embeddings and each user as the aggregation of their review text embeddings. There are many other ways to do this, and we encourage readers to explore additional schemes. The only caveat here is to use the `.pkl` file format instead of `.npz`, as the latter is much slower to load into memory."
   ]
  },
  {
   "cell_type": "code",
   "execution_count": 7,
   "metadata": {},
   "outputs": [
    {
     "name": "stdout",
     "output_type": "stream",
     "text": [
      "Number of businesses: 27896\n",
      "Number of users: 29596\n"
     ]
    }
   ],
   "source": [
    "import numpy as np\n",
    "import pickle\n",
    "IMAGE_EMBEDDINGS_ = np.load('embeddings/data/embeddings_pics_train.pkl', allow_pickle=True)\n",
    "TEXT_EMBEDDINGS_ = np.load('embeddings/data/embeddings_text_train.pkl', allow_pickle=True)\n",
    "\n",
    "\n",
    "UNIQUE_BUSINESS_IDS = df['business_id'].unique()\n",
    "UNIQUE_USER_IDS = df['user_id'].unique()\n",
    "\n",
    "print(\"Number of businesses:\", len(UNIQUE_BUSINESS_IDS))\n",
    "print(\"Number of users:\", len(UNIQUE_USER_IDS))\n",
    "\n",
    "business_to_image_keys = pickle.load(open('data/business_image_mapping.pkl', 'rb'))\n",
    "business_to_image_keys = {item['business_id']: item['image_keys'] for item in business_to_image_keys}\n",
    "\n",
    "user_to_text_keys = pickle.load(open('data/user_text_mapping.pkl', 'rb'))\n",
    "user_to_text_keys = {item['user_id']: [item['text_key']] for item in user_to_text_keys}"
   ]
  },
  {
   "cell_type": "code",
   "execution_count": 8,
   "metadata": {},
   "outputs": [
    {
     "name": "stdout",
     "output_type": "stream",
     "text": [
      "torch.Size([27896, 768])\n",
      "torch.Size([29596, 768])\n"
     ]
    },
    {
     "name": "stderr",
     "output_type": "stream",
     "text": [
      "/tmp/ipykernel_30713/3094676195.py:23: RuntimeWarning: Mean of empty slice.\n",
      "  text_tensors = torch.from_numpy(np.stack([TEXT_EMBEDDINGS_[k].mean(axis=0) for k in text_key]))\n",
      "/home/azureuser/.conda/envs/gnn/lib/python3.10/site-packages/numpy/_core/_methods.py:137: RuntimeWarning: invalid value encountered in divide\n",
      "  ret = um.true_divide(\n"
     ]
    }
   ],
   "source": [
    "import torch\n",
    "\n",
    "business_features = torch.zeros((len(UNIQUE_BUSINESS_IDS), 768))\n",
    "print(business_features.shape)\n",
    "\n",
    "for i, biz_id in enumerate(UNIQUE_BUSINESS_IDS):\n",
    "    # Process image embeddings in batches\n",
    "    img_keys = business_to_image_keys.get(biz_id, None)\n",
    "    if img_keys:\n",
    "        # Convert all at once\n",
    "        img_tensors = torch.from_numpy(np.stack([IMAGE_EMBEDDINGS_[k] for k in img_keys]))\n",
    "        img_embedding = img_tensors.mean(dim=0)\n",
    "    else:\n",
    "        img_embedding = torch.zeros(768)\n",
    "    img_embedding = torch.nan_to_num(img_embedding, nan=0.0, posinf=1e6, neginf=-1e6)\n",
    "    business_features[i] = img_embedding\n",
    "\n",
    "user_features = torch.zeros((len(UNIQUE_USER_IDS), 768))\n",
    "print(user_features.shape)\n",
    "for i, user_id in enumerate(UNIQUE_USER_IDS):\n",
    "    text_key = user_to_text_keys.get(user_id, None)\n",
    "    if text_key:\n",
    "        text_tensors = torch.from_numpy(np.stack([TEXT_EMBEDDINGS_[k].mean(axis=0) for k in text_key]))\n",
    "        text_tensors = text_tensors.mean(axis=0)\n",
    "    else:\n",
    "        text_tensors = torch.zeros(768)\n",
    "    text_tensors = torch.nan_to_num(text_tensors, nan=0.0, posinf=1e6, neginf=-1e6)\n",
    "    user_features[i] = text_tensors"
   ]
  },
  {
   "cell_type": "code",
   "execution_count": 9,
   "metadata": {},
   "outputs": [
    {
     "name": "stdout",
     "output_type": "stream",
     "text": [
      "torch.Size([57492, 768])\n",
      "torch.Size([57492, 768])\n"
     ]
    }
   ],
   "source": [
    "node_features = torch.cat([user_features, business_features], dim=0)\n",
    "print(node_features.shape)\n",
    "rand_embeddings = torch.nn.init.xavier_uniform_(torch.empty((num_nodes, node_features.shape[1])))\n",
    "print(rand_embeddings.shape)"
   ]
  },
  {
   "cell_type": "markdown",
   "metadata": {},
   "source": [
    "We inspected the dataset and found the original dataset is very sparse, meaning, every user is only connected to one or two restaurants. This makes it not suitable for a recommendation task. To fix it, we augment the dataset by sampling additional (user, restaurant) edges. For one in very 10 restaurant nodes, we sample `k` additional nearest neighbors based on the cosine similarities of their feature vectors."
   ]
  },
  {
   "cell_type": "code",
   "execution_count": 10,
   "metadata": {},
   "outputs": [],
   "source": [
    "import torch.nn.functional as F\n",
    "\n",
    "def find_k_similar(business_features: torch.Tensor, \n",
    "                  idx: int, \n",
    "                  k: int = 5,\n",
    "                  use_cosine: bool = True) -> tuple[torch.Tensor, torch.Tensor]:\n",
    "    \"\"\"\n",
    "    Find k most similar tensors to tensor at index idx\n",
    "    Returns: tuple of (indices, similarity_scores)\n",
    "    \"\"\"\n",
    "    # Get the query tensor\n",
    "    query = business_features[idx]\n",
    "    \n",
    "    if use_cosine:\n",
    "        # Normalize the features (for cosine similarity)\n",
    "        normalized_features = F.normalize(business_features, p=2, dim=1)\n",
    "        normalized_query = F.normalize(query.unsqueeze(0), p=2, dim=1)\n",
    "        \n",
    "        # Compute cosine similarity\n",
    "        similarities = torch.mm(normalized_query, normalized_features.T).squeeze()\n",
    "    else:\n",
    "        # Compute dot product\n",
    "        similarities = torch.mm(query.unsqueeze(0), business_features.T).squeeze()\n",
    "    \n",
    "    # Get top k (excluding the query itself)\n",
    "    similarities[idx] = -float('inf')  # Exclude self\n",
    "    top_k_similarities, top_k_indices = torch.topk(similarities, k)\n",
    "    \n",
    "    return top_k_indices, top_k_similarities\n"
   ]
  },
  {
   "cell_type": "code",
   "execution_count": 11,
   "metadata": {},
   "outputs": [],
   "source": [
    "from torch_sparse import SparseTensor\n",
    "\n",
    "def generate_edge_index(data, user_id_map, business_id_map, business_features, k=50):\n",
    "    '''\n",
    "    Args:\n",
    "        data              (pd.DataFrame)\n",
    "        user_id_map       (dict)\n",
    "        business_id_map   (dict)\n",
    "        business_features (torch.tensor)\n",
    "        k                 (int): number of similar businesses\n",
    "    Returns:\n",
    "        edge_index        (torch.tensor)\n",
    "        edge_index_sparse (SparseTensor)\n",
    "    '''\n",
    "    # Use a set to store unique edges\n",
    "    edge_set = set()\n",
    "    print(len(data))\n",
    "    for i in range(len(data)):\n",
    "        uid = user_id_map[data[\"user_id\"][i]]\n",
    "        bid = business_id_map[data[\"business_id\"][i]]\n",
    "        \n",
    "        # Add original edge\n",
    "        edge_set.add((uid, bid + len(user_id_map)))\n",
    "        \n",
    "        # Find similar businesses and add edges\n",
    "        if i % 10 == 0:\n",
    "          indices, _ = find_k_similar(business_features, bid, k)\n",
    "          for idx in indices:\n",
    "              edge_set.add((uid, idx.item() + len(user_id_map)))\n",
    "    \n",
    "    # Convert set to edge_index format\n",
    "    edge_index = torch.tensor([[edge[0] for edge in edge_set],\n",
    "                             [edge[1] for edge in edge_set]])\n",
    "    \n",
    "    # Create sparse tensor\n",
    "    num_nodes = len(user_id_map) + len(business_id_map)\n",
    "    edge_index_sparse = SparseTensor(\n",
    "        row=edge_index[0],\n",
    "        col=edge_index[1],\n",
    "        sparse_sizes=(num_nodes, num_nodes)\n",
    "    )\n",
    "    \n",
    "    return edge_index, edge_index_sparse"
   ]
  },
  {
   "cell_type": "markdown",
   "metadata": {},
   "source": [
    "We can now create `PyG.data.Data` objects and use the `RandomLinkSplit` method to split our graph into train, val, and test components. Because the sampling procedure takes some time, we have saved the results as pickle objects that we can conveniently reload."
   ]
  },
  {
   "cell_type": "code",
   "execution_count": null,
   "metadata": {},
   "outputs": [],
   "source": [
    "from torch_geometric.data import Data\n",
    "from torch_geometric.transforms import RandomLinkSplit\n",
    "\n",
    "edge_index, edge_index_sparse = generate_edge_index(data, user_id_map, business_id_map, business_features)\n",
    "graph_data = Data(edge_index = edge_index, num_nodes = num_nodes)\n",
    "\n",
    "train_split, val_split, test_split = RandomLinkSplit(\n",
    "    is_undirected=True,\n",
    "    add_negative_train_samples=False,\n",
    "    num_val=0.2, num_test=0.1\n",
    ")(graph_data)"
   ]
  },
  {
   "cell_type": "code",
   "execution_count": 13,
   "metadata": {},
   "outputs": [
    {
     "name": "stdout",
     "output_type": "stream",
     "text": [
      "<class 'torch_geometric.data.data.Data'>\n"
     ]
    }
   ],
   "source": [
    "import pickle as pkl\n",
    "train_split = pkl.load(open(\"data/train_split.pkl\", \"rb\"))\n",
    "val_split = pkl.load(open(\"data/val_split.pkl\", \"rb\"))\n",
    "test_split = pkl.load(open(\"data/test_split.pkl\", \"rb\"))\n",
    "\n",
    "print(type(train_split))"
   ]
  },
  {
   "cell_type": "markdown",
   "metadata": {},
   "source": [
    "This completes all the data preprocessing we need to start training. The `torch_geometric.data.data.Data` provides message-passing edges as well as supervision edges that are accessible via the `edge_index` and `edge_label_index` attributes."
   ]
  },
  {
   "cell_type": "markdown",
   "metadata": {},
   "source": [
    "# 2. Creating a Custom LightGCN Recommender Model"
   ]
  },
  {
   "cell_type": "markdown",
   "metadata": {},
   "source": [
    "The next step is to create a modded LightGCN model that supports using multi-modal features in training. We thought about different ways to this. One naive way is to initialize node node embeddings with the pre-trained features. However, this means the model only uses this knowledge in initialization, and it gradually \"disregards\" the original information. We tested this empirically, and the result is no different from random (Xavier and He) initialization.\n",
    "\n",
    "Our solution is to find a way to incorporate this knowledge during training. Specifically, in each forward pass, the model gets the associated embeddings of each node via the `self.get_embedding` API. Our key modification is to also let the model learn a trainable weight matrix that transforms the pre-trained embeddings and adds them to the original node embeddings. In code, this is:\n",
    "\n",
    "```\n",
    "if self.has_clip_features:\n",
    "    x = self.feature_weight * x + (1 - self.feature_weight) * self.clip_features\n",
    "```\n",
    "\n",
    "This is effective for our dataset, and we intend to test on other benchmarks.\n",
    "\n",
    "Our implementation is in `src/lgcn/model.py`."
   ]
  },
  {
   "cell_type": "code",
   "execution_count": 16,
   "metadata": {},
   "outputs": [],
   "source": [
    "# You can also our implementations directly\n",
    "from lgcn.model import LightGCN\n",
    "from lgcn.utils.negative_sampling import get_negative_samples\n",
    "from lgcn.utils.recall import recall_at_k"
   ]
  },
  {
   "cell_type": "code",
   "execution_count": 17,
   "metadata": {},
   "outputs": [],
   "source": [
    "\"\"\"\n",
    "Model adapted from LightGCN source code: \n",
    "https://pytorch-geometric.readthedocs.io/en/2.5.2/_modules/torch_geometric/nn/models/lightgcn.html#LightGCN\n",
    "\"\"\"\n",
    "from typing import Optional, Union\n",
    "\n",
    "import torch\n",
    "import torch.nn.functional as F\n",
    "from torch import Tensor\n",
    "from torch.nn import Parameter, Embedding, ModuleList\n",
    "from torch.nn.modules.loss import _Loss\n",
    "\n",
    "from torch_geometric.nn.conv import LGConv\n",
    "from torch_geometric.typing import Adj, OptTensor\n",
    "from torch_geometric.utils import is_sparse, to_edge_index\n",
    "\n",
    "class LightGCN(torch.nn.Module):\n",
    "    def __init__(\n",
    "        self,\n",
    "        num_nodes: int,\n",
    "        embedding_dim: int,\n",
    "        num_layers: int,\n",
    "        alpha: Optional[Union[float, Tensor]] = None,\n",
    "        has_clip_features = False,\n",
    "        **kwargs,\n",
    "    ):\n",
    "        super().__init__()\n",
    "        self.num_nodes = num_nodes\n",
    "        self.embedding_dim = embedding_dim\n",
    "        self.num_layers = num_layers\n",
    "        self.has_clip_features = has_clip_features\n",
    "\n",
    "        if self.has_clip_features:\n",
    "            self.clip_features = Parameter(torch.zeros(num_nodes, embedding_dim))\n",
    "            self.feature_weight = Parameter(torch.tensor(0.5))\n",
    "\n",
    "        if alpha is None:\n",
    "            alpha = 1. / (num_layers + 1)\n",
    "\n",
    "        if isinstance(alpha, Tensor):\n",
    "            assert alpha.size(0) == num_layers + 1\n",
    "        else:\n",
    "            alpha = torch.tensor([alpha] * (num_layers + 1))\n",
    "\n",
    "        self.register_buffer('alpha', alpha)\n",
    "\n",
    "        self.embedding = Embedding(num_nodes, embedding_dim)\n",
    "        self.convs = ModuleList([LGConv(**kwargs) for _ in range(num_layers)])\n",
    "\n",
    "        self.reset_parameters()\n",
    "    \n",
    "    def initialize_clip_features(self, data: torch.Tensor):\n",
    "        r\"\"\"Initialize this model with pre-trained CLIP features.\"\"\"\n",
    "        if not self.has_clip_features:\n",
    "            raise ValueError(\"Model was not initialized with CLIP features support\")\n",
    "        \n",
    "        if data.shape != self.clip_features.shape:\n",
    "            raise ValueError(f\"Data shape {data.shape} does not match expected shape {self.clip_features.shape}\")\n",
    "    \n",
    "        self.clip_features.data.copy_(data)\n",
    "    \n",
    "    def initialize_node_embedding(self, data: torch.Tensor):\n",
    "        self.embedding.weight.data.copy_(data)\n",
    "\n",
    "    def reset_parameters(self):\n",
    "        torch.nn.init.xavier_uniform_(self.embedding.weight)\n",
    "        for conv in self.convs:\n",
    "            conv.reset_parameters()\n",
    "\n",
    "    def get_embedding(self, edge_index: Adj) -> Tensor:\n",
    "        x = self.embedding.weight\n",
    "        \n",
    "        if self.has_clip_features:\n",
    "            x = self.feature_weight * x + (1 - self.feature_weight) * self.clip_features\n",
    "        out = x * self.alpha[0]\n",
    "\n",
    "        for i in range(self.num_layers):\n",
    "            x = self.convs[i](x, edge_index)\n",
    "            out = out + x * self.alpha[i + 1]\n",
    "\n",
    "        return out\n",
    "\n",
    "    def forward(self, edge_index: Adj,\n",
    "                edge_label_index: OptTensor = None) -> Tensor:\n",
    "        if edge_label_index is None:\n",
    "            if is_sparse(edge_index):\n",
    "                edge_label_index, _ = to_edge_index(edge_index)\n",
    "            else:\n",
    "                edge_label_index = edge_index\n",
    "\n",
    "        out = self.get_embedding(edge_index)\n",
    "\n",
    "        out_src = out[edge_label_index[0]]\n",
    "        out_dst = out[edge_label_index[1]]\n",
    "\n",
    "        return (out_src * out_dst).sum(dim=-1)\n",
    "\n",
    "    def predict_link(self, edge_index: Adj, edge_label_index: OptTensor = None,\n",
    "                     prob: bool = False) -> Tensor:\n",
    "\n",
    "        pred = self(edge_index, edge_label_index).sigmoid()\n",
    "        return pred if prob else pred.round()\n",
    "\n",
    "\n",
    "    def recommend(self, edge_index: Adj, src_index: OptTensor = None,\n",
    "                  dst_index: OptTensor = None, k: int = 1) -> Tensor:\n",
    "        out_src = out_dst = self.get_embedding(edge_index)\n",
    "\n",
    "        if src_index is not None:\n",
    "            out_src = out_src[src_index]\n",
    "\n",
    "        if dst_index is not None:\n",
    "            out_dst = out_dst[dst_index]\n",
    "\n",
    "        pred = out_src @ out_dst.t()\n",
    "        top_index = pred.topk(k, dim=-1).indices\n",
    "\n",
    "        if dst_index is not None:  # Map local top-indices to original indices.\n",
    "            top_index = dst_index[top_index.view(-1)].view(*top_index.size())\n",
    "\n",
    "        return top_index\n",
    "\n",
    "\n",
    "    def link_pred_loss(self, pred: Tensor, edge_label: Tensor,\n",
    "                       **kwargs) -> Tensor:\n",
    "        loss_fn = torch.nn.BCEWithLogitsLoss(**kwargs)\n",
    "        return loss_fn(pred, edge_label.to(pred.dtype))\n",
    "\n",
    "\n",
    "    def recommendation_loss(self, pos_edge_rank: Tensor, neg_edge_rank: Tensor,\n",
    "                            node_id: Optional[Tensor] = None,\n",
    "                            lambda_reg: float = 1e-4, **kwargs) -> Tensor:\n",
    "        r\"\"\"Computes the model loss for a ranking objective via the Bayesian\n",
    "        Personalized Ranking (BPR) loss.\"\"\"\n",
    "        loss_fn = BPRLoss(lambda_reg, **kwargs)\n",
    "        emb = self.embedding.weight\n",
    "        emb = emb if node_id is None else emb[node_id]\n",
    "        return loss_fn(pos_edge_rank, neg_edge_rank, emb)\n",
    "\n",
    "    def __repr__(self) -> str:\n",
    "        return (f'{self.__class__.__name__}({self.num_nodes}, '\n",
    "                f'{self.embedding_dim}, num_layers={self.num_layers})')\n",
    "    \n",
    "\n",
    "class BPRLoss(_Loss):\n",
    "    r\"\"\"The Bayesian Personalized Ranking (BPR) loss.\n",
    "\n",
    "    The BPR loss is a pairwise loss that encourages the prediction of an\n",
    "    observed entry to be higher than its unobserved counterparts\n",
    "    (see `here <https://arxiv.org/abs/2002.02126>`__).\n",
    "\n",
    "    .. math::\n",
    "        L_{\\text{BPR}} = - \\sum_{u=1}^{M} \\sum_{i \\in \\mathcal{N}_u}\n",
    "        \\sum_{j \\not\\in \\mathcal{N}_u} \\ln \\sigma(\\hat{y}_{ui} - \\hat{y}_{uj})\n",
    "        + \\lambda \\vert\\vert \\textbf{x}^{(0)} \\vert\\vert^2\n",
    "\n",
    "    where :math:`lambda` controls the :math:`L_2` regularization strength.\n",
    "    We compute the mean BPR loss for simplicity.\n",
    "\n",
    "    Args:\n",
    "        lambda_reg (float, optional): The :math:`L_2` regularization strength\n",
    "            (default: 0).\n",
    "        **kwargs (optional): Additional arguments of the underlying\n",
    "            :class:`torch.nn.modules.loss._Loss` class.\n",
    "    \"\"\"\n",
    "    __constants__ = ['lambda_reg']\n",
    "    lambda_reg: float\n",
    "\n",
    "    def __init__(self, lambda_reg: float = 0, **kwargs):\n",
    "        super().__init__(None, None, \"sum\", **kwargs)\n",
    "        self.lambda_reg = lambda_reg\n",
    "\n",
    "    def forward(self, positives: Tensor, negatives: Tensor,\n",
    "                parameters: Tensor = None) -> Tensor:\n",
    "        r\"\"\"Compute the mean Bayesian Personalized Ranking (BPR) loss.\n",
    "\n",
    "        .. note::\n",
    "\n",
    "            The i-th entry in the :obj:`positives` vector and i-th entry\n",
    "            in the :obj:`negatives` entry should correspond to the same\n",
    "            entity (*.e.g*, user), as the BPR is a personalized ranking loss.\n",
    "\n",
    "        Args:\n",
    "            positives (Tensor): The vector of positive-pair rankings.\n",
    "            negatives (Tensor): The vector of negative-pair rankings.\n",
    "            parameters (Tensor, optional): The tensor of parameters which\n",
    "                should be used for :math:`L_2` regularization\n",
    "                (default: :obj:`None`).\n",
    "        \"\"\"\n",
    "        log_prob = F.logsigmoid(positives - negatives).mean()\n",
    "\n",
    "        regularization = 0\n",
    "        if self.lambda_reg != 0:\n",
    "            regularization = self.lambda_reg * parameters.norm(p=2).pow(2)\n",
    "            regularization = regularization / positives.size(0)\n",
    "\n",
    "        return -log_prob + regularization\n"
   ]
  },
  {
   "cell_type": "markdown",
   "metadata": {},
   "source": [
    "Two additional functions we had to implement are `get_negative_samples`, which samples negative edges, and `recall_at_k`, which calculate the overlap between recommended edges and true positives.\n",
    "\n",
    "Our initial implementation had serious performance issues. We would like to acknowledge that [this notebook](https://colab.research.google.com/drive/1DhPrtHLggaObSyKjyCQNw0Z-k8vzXZHh?usp=sharing) on building a recommender system for Spotify tracks has a very efficient implementation. We learned the approach and found that using tensor operations like `gather()` greatly helped boost efficiency."
   ]
  },
  {
   "cell_type": "code",
   "execution_count": 18,
   "metadata": {},
   "outputs": [],
   "source": [
    "def get_negative_samples(data, num_users, num_items):\n",
    "    \"\"\"\n",
    "    Generate negative samples for user-business interactions\n",
    "    Args:\n",
    "        data: PyG Graph data object containing positive edges\n",
    "        num_users: Total number of users\n",
    "        num_items: Total number of items\n",
    "    Returns:\n",
    "        tuple: (negative edge indices, negative edge labels)\n",
    "    \"\"\"\n",
    "    # Get positive interactions\n",
    "    pos_users, pos_items = data.edge_label_index\n",
    "    device = data.edge_label_index.device\n",
    "\n",
    "    # Initialize interaction matrix\n",
    "    interactions = torch.zeros(\n",
    "        (num_users, num_items), \n",
    "        device=device, \n",
    "        dtype=torch.bool,\n",
    "    )\n",
    "    \n",
    "    # Mark positive interactions\n",
    "    business_indices = pos_items - num_users  # Adjust business indices\n",
    "    interactions[pos_users, business_indices] = True\n",
    "    \n",
    "    # Find all possible negative interactions\n",
    "    available_negatives = torch.where(~interactions.reshape(-1))[0]\n",
    "    \n",
    "    # Sample random negative interactions\n",
    "    num_samples = pos_users.size(0)\n",
    "    sampled_indices = available_negatives[\n",
    "        torch.randint(\n",
    "            0, \n",
    "            available_negatives.size(0), \n",
    "            size=(num_samples,), \n",
    "            device=device\n",
    "        )\n",
    "    ]\n",
    "    \n",
    "    # Convert linear indices to user-business pairs\n",
    "    sampled_users = sampled_indices // num_items\n",
    "    sampled_items = (sampled_indices % num_items) + num_users\n",
    "    \n",
    "    # Create negative edge tensor\n",
    "    neg_edges = torch.stack((sampled_users, sampled_items), dim=0)\n",
    "    neg_labels = torch.zeros(neg_edges.shape[1], device=device)\n",
    "    \n",
    "    return neg_edges, neg_labels\n",
    "\n",
    "def recall_at_k(data, model, num_users, k=500):\n",
    "    \"\"\"\n",
    "    Calculate recall@k for recommendations.\n",
    "    Returns average recall score across all users.\n",
    "    \n",
    "    Args:\n",
    "        data: Graph data object containing edge indices and labels\n",
    "        model: Neural network model with get_embedding method\n",
    "    \"\"\"\n",
    "    model.eval()\n",
    "    with torch.no_grad():\n",
    "        # Get embeddings for users and items\n",
    "        embeddings = model.get_embedding(data.edge_index)\n",
    "        user_embeds, item_embeds = embeddings[:num_users], embeddings[num_users:]\n",
    "        \n",
    "        # Calculate similarities and initialize truth matrix\n",
    "        similarities = torch.matmul(user_embeds, item_embeds.t())\n",
    "        truth = torch.zeros_like(similarities, dtype=torch.bool)\n",
    "        \n",
    "        # Get training and supervision edge masks\n",
    "        train_edges = data.edge_index[:, data.edge_index[0] < num_users]\n",
    "        sup_edges = data.edge_label_index[:, data.edge_label_index[0] < num_users]\n",
    "        \n",
    "        # Mask out training edges from recommendations\n",
    "        similarities[train_edges[0], train_edges[1] - num_users] = float('-inf')\n",
    "        \n",
    "        # Mark ground truth edges\n",
    "        truth[sup_edges[0], sup_edges[1] - num_users] = True\n",
    "        \n",
    "        # Calculate recall\n",
    "        topk_scores, topk_items = torch.topk(similarities, k, dim=1)\n",
    "        hits = truth.gather(1, topk_items).sum(dim=1)\n",
    "        \n",
    "        # Calculate total relevant items per user\n",
    "        relevants = torch.bincount(sup_edges[0], minlength=num_users)\n",
    "        \n",
    "        # Compute recall, handling users with no relevant items\n",
    "        recalls = torch.where(\n",
    "            relevants > 0,\n",
    "            hits.float() / relevants.float(),\n",
    "            torch.ones_like(relevants, dtype=torch.float)\n",
    "        )\n",
    "        \n",
    "        return recalls.mean().item()"
   ]
  },
  {
   "cell_type": "markdown",
   "metadata": {},
   "source": [
    "# 3. Training and Evaluation"
   ]
  },
  {
   "cell_type": "markdown",
   "metadata": {},
   "source": [
    "We study the effects of multi-modal feature integration and learnable feature fusion, as described in model implementation. \n",
    "We compare the performance of the augmented model with a baseline model, where we use Xavier initialization to generate node embeddings and do not incorporate the weight and feature matrices."
   ]
  },
  {
   "cell_type": "code",
   "execution_count": 19,
   "metadata": {},
   "outputs": [],
   "source": [
    "from sklearn.metrics import roc_auc_score"
   ]
  },
  {
   "cell_type": "code",
   "execution_count": 20,
   "metadata": {},
   "outputs": [],
   "source": [
    "def train(model, optimizer, train_split, val_split, num_epochs=81, run = None):\n",
    "    for epoch in range(num_epochs): \n",
    "        model.train()\n",
    "        optimizer.zero_grad()\n",
    "\n",
    "        edge_index_negative, _ = get_negative_samples(train_split, num_users, num_businesses)\n",
    "        \n",
    "        out = model.get_embedding(train_split.edge_index)\n",
    "\n",
    "        train_src = out[train_split.edge_label_index[0]]\n",
    "        train_dst = out[train_split.edge_label_index[1]]\n",
    "        pos_scores = (train_src * train_dst).sum(dim=-1)\n",
    "\n",
    "        neg_src = out[edge_index_negative[0]]\n",
    "        neg_dst = out[edge_index_negative[1]]\n",
    "        neg_scores = (neg_src * neg_dst).sum(dim=-1)\n",
    "        loss = model.recommendation_loss(pos_scores, neg_scores)\n",
    "\n",
    "        loss.backward()\n",
    "        optimizer.step()\n",
    "\n",
    "        edge_index_negative_val, _ = get_negative_samples(val_split, num_users, num_businesses)\n",
    "        val_src = out[val_split.edge_label_index[0]]\n",
    "        val_dst = out[val_split.edge_label_index[1]]\n",
    "        pos_scores = (val_src * val_dst).sum(dim=-1)\n",
    "\n",
    "        neg_src = out[edge_index_negative_val[0]]\n",
    "        neg_dst = out[edge_index_negative_val[1]]\n",
    "        neg_scores = (neg_src * neg_dst).sum(dim=-1)\n",
    "\n",
    "        val_loss = model.recommendation_loss(pos_scores, neg_scores)\n",
    "\n",
    "\n",
    "        if epoch % 10 == 0:\n",
    "            val_recall = recall_at_k(val_split, model, num_users)\n",
    "            print(f\"Epoch {epoch}, Train loss {loss}, Val loss {val_loss}, Val Recall@500 {val_recall}\")\n",
    "            if run:\n",
    "                run.log({\"epoch\": epoch, \"train/loss\": loss, \"val/loss\": val_loss, \"val/recall@500\": val_recall})\n"
   ]
  },
  {
   "cell_type": "code",
   "execution_count": 21,
   "metadata": {},
   "outputs": [
    {
     "data": {
      "text/plain": [
       "Data(edge_index=[2, 727582], num_nodes=57492, edge_label=[77954], edge_label_index=[2, 77954])"
      ]
     },
     "execution_count": 21,
     "metadata": {},
     "output_type": "execute_result"
    }
   ],
   "source": [
    "device = torch.device(\"cuda\" if torch.cuda.is_available() else \"cpu\")\n",
    "model = LightGCN(num_nodes, 768, num_layers = 3, has_clip_features = True).to(device)\n",
    "optimizer = torch.optim.Adam(model.parameters(), lr=0.5, weight_decay=1e-5)\n",
    "\n",
    "train_split.to(device)\n",
    "val_split.to(device)"
   ]
  },
  {
   "cell_type": "code",
   "execution_count": 154,
   "metadata": {},
   "outputs": [],
   "source": [
    "if model.has_clip_features:\n",
    "    model.initialize_clip_features(node_features)"
   ]
  },
  {
   "cell_type": "code",
   "execution_count": 155,
   "metadata": {},
   "outputs": [
    {
     "data": {
      "text/html": [
       "Finishing last run (ID:8u7yzxp3) before initializing another..."
      ],
      "text/plain": [
       "<IPython.core.display.HTML object>"
      ]
     },
     "metadata": {},
     "output_type": "display_data"
    },
    {
     "data": {
      "text/html": [
       "\n",
       "    <style>\n",
       "        .wandb-row {\n",
       "            display: flex;\n",
       "            flex-direction: row;\n",
       "            flex-wrap: wrap;\n",
       "            justify-content: flex-start;\n",
       "            width: 100%;\n",
       "        }\n",
       "        .wandb-col {\n",
       "            display: flex;\n",
       "            flex-direction: column;\n",
       "            flex-basis: 100%;\n",
       "            flex: 1;\n",
       "            padding: 10px;\n",
       "        }\n",
       "    </style>\n",
       "<div class=\"wandb-row\"><div class=\"wandb-col\"><h3>Run history:</h3><br/><table class=\"wandb\"><tr><td>epoch</td><td>▁▂▃▄▅▅▆▇█</td></tr><tr><td>train/loss</td><td>█▁▂▂▁▂▁▂▁</td></tr><tr><td>val/loss</td><td>█▁▂▁▁▁▁▁▁</td></tr><tr><td>val/recall@500</td><td>▁█▅▄▄▅▄▅▅</td></tr></table><br/></div><div class=\"wandb-col\"><h3>Run summary:</h3><br/><table class=\"wandb\"><tr><td>epoch</td><td>80</td></tr><tr><td>train/loss</td><td>0.26188</td></tr><tr><td>val/loss</td><td>0.28131</td></tr><tr><td>val/recall@500</td><td>0.58363</td></tr></table><br/></div></div>"
      ],
      "text/plain": [
       "<IPython.core.display.HTML object>"
      ]
     },
     "metadata": {},
     "output_type": "display_data"
    },
    {
     "data": {
      "text/html": [
       " View run <strong style=\"color:#cdcd00\">restful-moon-32</strong> at: <a href='https://wandb.ai/ronyw/224w-project/runs/8u7yzxp3' target=\"_blank\">https://wandb.ai/ronyw/224w-project/runs/8u7yzxp3</a><br/> View project at: <a href='https://wandb.ai/ronyw/224w-project' target=\"_blank\">https://wandb.ai/ronyw/224w-project</a><br/>Synced 5 W&B file(s), 0 media file(s), 0 artifact file(s) and 0 other file(s)"
      ],
      "text/plain": [
       "<IPython.core.display.HTML object>"
      ]
     },
     "metadata": {},
     "output_type": "display_data"
    },
    {
     "data": {
      "text/html": [
       "Find logs at: <code>./wandb/run-20241212_095413-8u7yzxp3/logs</code>"
      ],
      "text/plain": [
       "<IPython.core.display.HTML object>"
      ]
     },
     "metadata": {},
     "output_type": "display_data"
    },
    {
     "data": {
      "text/html": [
       "Successfully finished last run (ID:8u7yzxp3). Initializing new run:<br/>"
      ],
      "text/plain": [
       "<IPython.core.display.HTML object>"
      ]
     },
     "metadata": {},
     "output_type": "display_data"
    },
    {
     "data": {
      "text/html": [
       "Tracking run with wandb version 0.19.0"
      ],
      "text/plain": [
       "<IPython.core.display.HTML object>"
      ]
     },
     "metadata": {},
     "output_type": "display_data"
    },
    {
     "data": {
      "text/html": [
       "Run data is saved locally in <code>/home/azureuser/cs224w-proj/src/wandb/run-20241212_100239-ni7kd74n</code>"
      ],
      "text/plain": [
       "<IPython.core.display.HTML object>"
      ]
     },
     "metadata": {},
     "output_type": "display_data"
    },
    {
     "data": {
      "text/html": [
       "Syncing run <strong><a href='https://wandb.ai/ronyw/224w-project/runs/ni7kd74n' target=\"_blank\">with_clip_features</a></strong> to <a href='https://wandb.ai/ronyw/224w-project' target=\"_blank\">Weights & Biases</a> (<a href='https://wandb.me/developer-guide' target=\"_blank\">docs</a>)<br/>"
      ],
      "text/plain": [
       "<IPython.core.display.HTML object>"
      ]
     },
     "metadata": {},
     "output_type": "display_data"
    },
    {
     "data": {
      "text/html": [
       " View project at <a href='https://wandb.ai/ronyw/224w-project' target=\"_blank\">https://wandb.ai/ronyw/224w-project</a>"
      ],
      "text/plain": [
       "<IPython.core.display.HTML object>"
      ]
     },
     "metadata": {},
     "output_type": "display_data"
    },
    {
     "data": {
      "text/html": [
       " View run at <a href='https://wandb.ai/ronyw/224w-project/runs/ni7kd74n' target=\"_blank\">https://wandb.ai/ronyw/224w-project/runs/ni7kd74n</a>"
      ],
      "text/plain": [
       "<IPython.core.display.HTML object>"
      ]
     },
     "metadata": {},
     "output_type": "display_data"
    },
    {
     "name": "stdout",
     "output_type": "stream",
     "text": [
      "Epoch 0, Train loss 0.7021403312683105, Val loss 1.034348964691162, Val Recall@500 0.6156777739524841\n",
      "Epoch 10, Train loss 0.2046588808298111, Val loss 0.33610451221466064, Val Recall@500 0.5988215804100037\n",
      "Epoch 20, Train loss 0.17989946901798248, Val loss 0.22836555540561676, Val Recall@500 0.6279262900352478\n",
      "Epoch 30, Train loss 0.11802853643894196, Val loss 0.19937250018119812, Val Recall@500 0.6372256278991699\n",
      "Epoch 40, Train loss 0.087558813393116, Val loss 0.16191759705543518, Val Recall@500 0.7040755748748779\n",
      "Epoch 50, Train loss 0.061568669974803925, Val loss 0.14156171679496765, Val Recall@500 0.7102102637290955\n",
      "Epoch 60, Train loss 0.04950494319200516, Val loss 0.13156257569789886, Val Recall@500 0.7303526997566223\n",
      "Epoch 70, Train loss 0.03989892080426216, Val loss 0.1308455914258957, Val Recall@500 0.7295324802398682\n",
      "Epoch 80, Train loss 0.037259869277477264, Val loss 0.13786402344703674, Val Recall@500 0.7251518368721008\n"
     ]
    }
   ],
   "source": [
    "import wandb\n",
    "\n",
    "run = wandb.init(\n",
    "    project=\"224w-project\",\n",
    "    config={'clip_features': model.has_clip_features},\n",
    "    reinit=True,\n",
    "    name='with_clip_features'\n",
    ")\n",
    "\n",
    "train(model, optimizer, train_split, val_split, num_epochs=81, run = run)"
   ]
  },
  {
   "cell_type": "markdown",
   "metadata": {},
   "source": [
    "Let us compare this with the baseline result:"
   ]
  },
  {
   "cell_type": "code",
   "execution_count": 156,
   "metadata": {},
   "outputs": [
    {
     "data": {
      "text/plain": [
       "Data(edge_index=[2, 727582], num_nodes=57492, edge_label=[77954], edge_label_index=[2, 77954])"
      ]
     },
     "execution_count": 156,
     "metadata": {},
     "output_type": "execute_result"
    }
   ],
   "source": [
    "HAS_CLIP_FEATURES = False\n",
    "device = torch.device(\"cuda\" if torch.cuda.is_available() else \"cpu\")\n",
    "model = LightGCN(num_nodes, 768, num_layers = 3, has_clip_features = HAS_CLIP_FEATURES).to(device)\n",
    "optimizer = torch.optim.Adam(model.parameters(), lr=0.5, weight_decay=1e-5)\n",
    "\n",
    "train_split.to(device)\n",
    "val_split.to(device)"
   ]
  },
  {
   "cell_type": "code",
   "execution_count": 157,
   "metadata": {},
   "outputs": [
    {
     "data": {
      "text/html": [
       "Finishing last run (ID:ni7kd74n) before initializing another..."
      ],
      "text/plain": [
       "<IPython.core.display.HTML object>"
      ]
     },
     "metadata": {},
     "output_type": "display_data"
    },
    {
     "data": {
      "text/html": [
       "\n",
       "    <style>\n",
       "        .wandb-row {\n",
       "            display: flex;\n",
       "            flex-direction: row;\n",
       "            flex-wrap: wrap;\n",
       "            justify-content: flex-start;\n",
       "            width: 100%;\n",
       "        }\n",
       "        .wandb-col {\n",
       "            display: flex;\n",
       "            flex-direction: column;\n",
       "            flex-basis: 100%;\n",
       "            flex: 1;\n",
       "            padding: 10px;\n",
       "        }\n",
       "    </style>\n",
       "<div class=\"wandb-row\"><div class=\"wandb-col\"><h3>Run history:</h3><br/><table class=\"wandb\"><tr><td>epoch</td><td>▁▂▃▄▅▅▆▇█</td></tr><tr><td>train/loss</td><td>█▃▃▂▂▁▁▁▁</td></tr><tr><td>val/loss</td><td>█▃▂▂▁▁▁▁▁</td></tr><tr><td>val/recall@500</td><td>▂▁▃▃▇▇███</td></tr></table><br/></div><div class=\"wandb-col\"><h3>Run summary:</h3><br/><table class=\"wandb\"><tr><td>epoch</td><td>80</td></tr><tr><td>train/loss</td><td>0.03726</td></tr><tr><td>val/loss</td><td>0.13786</td></tr><tr><td>val/recall@500</td><td>0.72515</td></tr></table><br/></div></div>"
      ],
      "text/plain": [
       "<IPython.core.display.HTML object>"
      ]
     },
     "metadata": {},
     "output_type": "display_data"
    },
    {
     "data": {
      "text/html": [
       " View run <strong style=\"color:#cdcd00\">with_clip_features</strong> at: <a href='https://wandb.ai/ronyw/224w-project/runs/ni7kd74n' target=\"_blank\">https://wandb.ai/ronyw/224w-project/runs/ni7kd74n</a><br/> View project at: <a href='https://wandb.ai/ronyw/224w-project' target=\"_blank\">https://wandb.ai/ronyw/224w-project</a><br/>Synced 5 W&B file(s), 0 media file(s), 0 artifact file(s) and 0 other file(s)"
      ],
      "text/plain": [
       "<IPython.core.display.HTML object>"
      ]
     },
     "metadata": {},
     "output_type": "display_data"
    },
    {
     "data": {
      "text/html": [
       "Find logs at: <code>./wandb/run-20241212_100239-ni7kd74n/logs</code>"
      ],
      "text/plain": [
       "<IPython.core.display.HTML object>"
      ]
     },
     "metadata": {},
     "output_type": "display_data"
    },
    {
     "data": {
      "text/html": [
       "Successfully finished last run (ID:ni7kd74n). Initializing new run:<br/>"
      ],
      "text/plain": [
       "<IPython.core.display.HTML object>"
      ]
     },
     "metadata": {},
     "output_type": "display_data"
    },
    {
     "data": {
      "text/html": [
       "Tracking run with wandb version 0.19.0"
      ],
      "text/plain": [
       "<IPython.core.display.HTML object>"
      ]
     },
     "metadata": {},
     "output_type": "display_data"
    },
    {
     "data": {
      "text/html": [
       "Run data is saved locally in <code>/home/azureuser/cs224w-proj/src/wandb/run-20241212_100309-m4466tci</code>"
      ],
      "text/plain": [
       "<IPython.core.display.HTML object>"
      ]
     },
     "metadata": {},
     "output_type": "display_data"
    },
    {
     "data": {
      "text/html": [
       "Syncing run <strong><a href='https://wandb.ai/ronyw/224w-project/runs/m4466tci' target=\"_blank\">with_xavier_init</a></strong> to <a href='https://wandb.ai/ronyw/224w-project' target=\"_blank\">Weights & Biases</a> (<a href='https://wandb.me/developer-guide' target=\"_blank\">docs</a>)<br/>"
      ],
      "text/plain": [
       "<IPython.core.display.HTML object>"
      ]
     },
     "metadata": {},
     "output_type": "display_data"
    },
    {
     "data": {
      "text/html": [
       " View project at <a href='https://wandb.ai/ronyw/224w-project' target=\"_blank\">https://wandb.ai/ronyw/224w-project</a>"
      ],
      "text/plain": [
       "<IPython.core.display.HTML object>"
      ]
     },
     "metadata": {},
     "output_type": "display_data"
    },
    {
     "data": {
      "text/html": [
       " View run at <a href='https://wandb.ai/ronyw/224w-project/runs/m4466tci' target=\"_blank\">https://wandb.ai/ronyw/224w-project/runs/m4466tci</a>"
      ],
      "text/plain": [
       "<IPython.core.display.HTML object>"
      ]
     },
     "metadata": {},
     "output_type": "display_data"
    },
    {
     "name": "stdout",
     "output_type": "stream",
     "text": [
      "Epoch 0, Train loss 0.6929919123649597, Val loss 0.7015380859375, Val Recall@500 0.526452362537384\n",
      "Epoch 10, Train loss 0.23192991316318512, Val loss 0.2971109449863434, Val Recall@500 0.6366650462150574\n",
      "Epoch 20, Train loss 0.2766125500202179, Val loss 0.3235437870025635, Val Recall@500 0.586006760597229\n",
      "Epoch 30, Train loss 0.2693984806537628, Val loss 0.2982886731624603, Val Recall@500 0.5789669752120972\n",
      "Epoch 40, Train loss 0.2580750584602356, Val loss 0.2811730206012726, Val Recall@500 0.582129955291748\n",
      "Epoch 50, Train loss 0.2651021480560303, Val loss 0.28673794865608215, Val Recall@500 0.5851755738258362\n",
      "Epoch 60, Train loss 0.262273371219635, Val loss 0.28189584612846375, Val Recall@500 0.5818809270858765\n",
      "Epoch 70, Train loss 0.2645350694656372, Val loss 0.2839330732822418, Val Recall@500 0.5825427770614624\n",
      "Epoch 80, Train loss 0.2608463764190674, Val loss 0.28079965710639954, Val Recall@500 0.5835397243499756\n"
     ]
    }
   ],
   "source": [
    "run = wandb.init(\n",
    "    project=\"224w-project\",\n",
    "    config={'clip_features': model.has_clip_features},\n",
    "    reinit=True,\n",
    "    name='with_xavier_init'\n",
    ")\n",
    "\n",
    "train(model, optimizer, train_split, val_split, num_epochs=81, run = run)"
   ]
  },
  {
   "cell_type": "markdown",
   "metadata": {},
   "source": [
    "Additionally, we have explored whether _compressed_ feature vectors can still boost model performance. We studied two schemes, PCA and auto-encoders. We found that even when compressed, feature vectors and learnable feature fusion still jointly improve model performance over the base version. The downside is Recall@K, our key metric, seems to be more unstable."
   ]
  },
  {
   "cell_type": "code",
   "execution_count": 38,
   "metadata": {},
   "outputs": [
    {
     "name": "stdout",
     "output_type": "stream",
     "text": [
      "torch.Size([57492, 8])\n"
     ]
    }
   ],
   "source": [
    "from sklearn.decomposition import PCA\n",
    "N_DIM = 8\n",
    "pca = PCA(n_components=N_DIM)\n",
    "compressed_features = pca.fit_transform(node_features.numpy())\n",
    "compressed_features = torch.tensor(compressed_features)\n",
    "print(compressed_features.shape)"
   ]
  },
  {
   "cell_type": "code",
   "execution_count": 39,
   "metadata": {},
   "outputs": [
    {
     "data": {
      "text/html": [
       "Finishing last run (ID:jlm2y96v) before initializing another..."
      ],
      "text/plain": [
       "<IPython.core.display.HTML object>"
      ]
     },
     "metadata": {},
     "output_type": "display_data"
    },
    {
     "data": {
      "text/html": [
       "\n",
       "    <style>\n",
       "        .wandb-row {\n",
       "            display: flex;\n",
       "            flex-direction: row;\n",
       "            flex-wrap: wrap;\n",
       "            justify-content: flex-start;\n",
       "            width: 100%;\n",
       "        }\n",
       "        .wandb-col {\n",
       "            display: flex;\n",
       "            flex-direction: column;\n",
       "            flex-basis: 100%;\n",
       "            flex: 1;\n",
       "            padding: 10px;\n",
       "        }\n",
       "    </style>\n",
       "<div class=\"wandb-row\"><div class=\"wandb-col\"><h3>Run history:</h3><br/><table class=\"wandb\"><tr><td>epoch</td><td>▁▂▂▃▃▄▅▅▆▆▇▇█</td></tr><tr><td>train/loss</td><td>█▁▂▂▂▂▂▁▁▁▁▁▁</td></tr><tr><td>val/loss</td><td>█▁▁▁▁▁▁▁▁▁▁▁▁</td></tr><tr><td>val/recall@500</td><td>▁█▅▅▆▆▅▅▅▆▆▅▅</td></tr></table><br/></div><div class=\"wandb-col\"><h3>Run summary:</h3><br/><table class=\"wandb\"><tr><td>epoch</td><td>120</td></tr><tr><td>train/loss</td><td>0.26194</td></tr><tr><td>val/loss</td><td>0.28162</td></tr><tr><td>val/recall@500</td><td>0.58192</td></tr></table><br/></div></div>"
      ],
      "text/plain": [
       "<IPython.core.display.HTML object>"
      ]
     },
     "metadata": {},
     "output_type": "display_data"
    },
    {
     "data": {
      "text/html": [
       " View run <strong style=\"color:#cdcd00\">with_xavier_initialization_256d</strong> at: <a href='https://wandb.ai/ronyw/224w-project/runs/jlm2y96v' target=\"_blank\">https://wandb.ai/ronyw/224w-project/runs/jlm2y96v</a><br/> View project at: <a href='https://wandb.ai/ronyw/224w-project' target=\"_blank\">https://wandb.ai/ronyw/224w-project</a><br/>Synced 5 W&B file(s), 0 media file(s), 0 artifact file(s) and 0 other file(s)"
      ],
      "text/plain": [
       "<IPython.core.display.HTML object>"
      ]
     },
     "metadata": {},
     "output_type": "display_data"
    },
    {
     "data": {
      "text/html": [
       "Find logs at: <code>./wandb/run-20241212_101743-jlm2y96v/logs</code>"
      ],
      "text/plain": [
       "<IPython.core.display.HTML object>"
      ]
     },
     "metadata": {},
     "output_type": "display_data"
    },
    {
     "data": {
      "text/html": [
       "Successfully finished last run (ID:jlm2y96v). Initializing new run:<br/>"
      ],
      "text/plain": [
       "<IPython.core.display.HTML object>"
      ]
     },
     "metadata": {},
     "output_type": "display_data"
    },
    {
     "data": {
      "text/html": [
       "Tracking run with wandb version 0.19.0"
      ],
      "text/plain": [
       "<IPython.core.display.HTML object>"
      ]
     },
     "metadata": {},
     "output_type": "display_data"
    },
    {
     "data": {
      "text/html": [
       "Run data is saved locally in <code>/home/azureuser/cs224w-proj/src/wandb/run-20241212_101757-ox0yoa6l</code>"
      ],
      "text/plain": [
       "<IPython.core.display.HTML object>"
      ]
     },
     "metadata": {},
     "output_type": "display_data"
    },
    {
     "data": {
      "text/html": [
       "Syncing run <strong><a href='https://wandb.ai/ronyw/224w-project/runs/ox0yoa6l' target=\"_blank\">with_xavier_initialization_8d</a></strong> to <a href='https://wandb.ai/ronyw/224w-project' target=\"_blank\">Weights & Biases</a> (<a href='https://wandb.me/developer-guide' target=\"_blank\">docs</a>)<br/>"
      ],
      "text/plain": [
       "<IPython.core.display.HTML object>"
      ]
     },
     "metadata": {},
     "output_type": "display_data"
    },
    {
     "data": {
      "text/html": [
       " View project at <a href='https://wandb.ai/ronyw/224w-project' target=\"_blank\">https://wandb.ai/ronyw/224w-project</a>"
      ],
      "text/plain": [
       "<IPython.core.display.HTML object>"
      ]
     },
     "metadata": {},
     "output_type": "display_data"
    },
    {
     "data": {
      "text/html": [
       " View run at <a href='https://wandb.ai/ronyw/224w-project/runs/ox0yoa6l' target=\"_blank\">https://wandb.ai/ronyw/224w-project/runs/ox0yoa6l</a>"
      ],
      "text/plain": [
       "<IPython.core.display.HTML object>"
      ]
     },
     "metadata": {},
     "output_type": "display_data"
    },
    {
     "name": "stdout",
     "output_type": "stream",
     "text": [
      "Epoch 0, Train loss 0.6931455731391907, Val loss 0.6932348012924194, Val Recall@500 0.49857378005981445\n",
      "Epoch 10, Train loss 0.27927345037460327, Val loss 0.2989569306373596, Val Recall@500 0.6090529561042786\n",
      "Epoch 20, Train loss 0.2780938148498535, Val loss 0.2964904010295868, Val Recall@500 0.5944400429725647\n",
      "Epoch 30, Train loss 0.27433350682258606, Val loss 0.29271695017814636, Val Recall@500 0.5866968631744385\n",
      "Epoch 40, Train loss 0.26832646131515503, Val loss 0.28603795170783997, Val Recall@500 0.5844632387161255\n",
      "Epoch 50, Train loss 0.26301488280296326, Val loss 0.2827049195766449, Val Recall@500 0.5840034484863281\n",
      "Epoch 60, Train loss 0.26183077692985535, Val loss 0.28054171800613403, Val Recall@500 0.5840795040130615\n",
      "Epoch 70, Train loss 0.26178881525993347, Val loss 0.2815468907356262, Val Recall@500 0.5833917856216431\n",
      "Epoch 80, Train loss 0.2625061571598053, Val loss 0.2836502194404602, Val Recall@500 0.5829149484634399\n",
      "Epoch 90, Train loss 0.26241958141326904, Val loss 0.28143227100372314, Val Recall@500 0.5822452902793884\n",
      "Epoch 100, Train loss 0.2623943090438843, Val loss 0.2805480659008026, Val Recall@500 0.5833539366722107\n",
      "Epoch 110, Train loss 0.2627179026603699, Val loss 0.2822176516056061, Val Recall@500 0.5837836861610413\n",
      "Epoch 120, Train loss 0.26218152046203613, Val loss 0.2815020978450775, Val Recall@500 0.5839106440544128\n"
     ]
    }
   ],
   "source": [
    "run = wandb.init(\n",
    "    project=\"224w-project\",\n",
    "    config={'clip_features': model.has_clip_features},\n",
    "    reinit=True,\n",
    "    name=f'with_xavier_initialization_{N_DIM}d'\n",
    ")\n",
    "\n",
    "device = torch.device(\"cuda\" if torch.cuda.is_available() else \"cpu\")\n",
    "model = LightGCN(num_nodes, N_DIM, num_layers = 3, has_clip_features = False).to(device)\n",
    "optimizer = torch.optim.Adam(model.parameters(), lr=0.5, weight_decay=1e-5)\n",
    "\n",
    "train_split.to(device)\n",
    "val_split.to(device)\n",
    "\n",
    "if model.has_clip_features:\n",
    "    model.initialize_clip_features(compressed_features)\n",
    "    print(\"Initialized node features\")\n",
    "\n",
    "train(model, optimizer, train_split, val_split, num_epochs=121, run=run)"
   ]
  },
  {
   "cell_type": "code",
   "execution_count": null,
   "metadata": {},
   "outputs": [
    {
     "name": "stdout",
     "output_type": "stream",
     "text": [
      "Epoch 0, Loss: 0.3230\n",
      "Epoch 10, Loss: 0.1208\n",
      "Epoch 20, Loss: 0.0832\n",
      "Epoch 30, Loss: 0.0754\n",
      "Epoch 40, Loss: 0.0692\n",
      "Epoch 50, Loss: 0.0620\n",
      "Epoch 60, Loss: 0.0554\n",
      "Epoch 70, Loss: 0.0503\n",
      "Epoch 80, Loss: 0.0466\n",
      "Epoch 90, Loss: 0.0436\n"
     ]
    }
   ],
   "source": [
    "import torch.nn as nn\n",
    "\n",
    "N_DIM = 256\n",
    "class Autoencoder(nn.Module):\n",
    "    def __init__(self, input_dim=768, hidden_dim=N_DIM):\n",
    "        super().__init__()\n",
    "        self.encoder = nn.Sequential(\n",
    "            nn.Linear(input_dim, 512),\n",
    "            nn.ReLU(),\n",
    "            nn.Linear(512, hidden_dim)\n",
    "        )\n",
    "        self.decoder = nn.Sequential(\n",
    "            nn.Linear(hidden_dim, 512),\n",
    "            nn.ReLU(),\n",
    "            nn.Linear(512, input_dim)\n",
    "        )\n",
    "    \n",
    "    def forward(self, x):\n",
    "        encoded = self.encoder(x)\n",
    "        decoded = self.decoder(encoded)\n",
    "        return decoded\n",
    "\n",
    "    def encode(self, x):\n",
    "        return self.encoder(x)\n",
    "\n",
    "# Train autoencoder\n",
    "autoencoder = Autoencoder()\n",
    "optimizer = torch.optim.Adam(autoencoder.parameters())\n",
    "criterion = nn.MSELoss()\n",
    "\n",
    "all_features = torch.cat([business_features, user_features], dim=0)\n",
    "\n",
    "for epoch in range(100):\n",
    "    output = autoencoder(all_features)\n",
    "    loss = criterion(output, all_features)\n",
    "    \n",
    "    optimizer.zero_grad()\n",
    "    loss.backward()\n",
    "    optimizer.step()\n",
    "    \n",
    "    if epoch % 10 == 0:\n",
    "        print(f\"Epoch {epoch}, Loss: {loss.item():.4f}\")\n",
    "\n",
    "compressed_features = autoencoder.encode(all_features)\n",
    "compressed_business = compressed_features[:len(business_features)]\n",
    "compressed_users = compressed_features[len(business_features):]\n",
    "compressed_features = torch.cat([compressed_users, compressed_business], dim=0)"
   ]
  },
  {
   "cell_type": "code",
   "execution_count": 43,
   "metadata": {},
   "outputs": [
    {
     "data": {
      "text/html": [
       "Finishing last run (ID:lrpyi3dp) before initializing another..."
      ],
      "text/plain": [
       "<IPython.core.display.HTML object>"
      ]
     },
     "metadata": {},
     "output_type": "display_data"
    },
    {
     "data": {
      "text/html": [
       "\n",
       "    <style>\n",
       "        .wandb-row {\n",
       "            display: flex;\n",
       "            flex-direction: row;\n",
       "            flex-wrap: wrap;\n",
       "            justify-content: flex-start;\n",
       "            width: 100%;\n",
       "        }\n",
       "        .wandb-col {\n",
       "            display: flex;\n",
       "            flex-direction: column;\n",
       "            flex-basis: 100%;\n",
       "            flex: 1;\n",
       "            padding: 10px;\n",
       "        }\n",
       "    </style>\n",
       "<div class=\"wandb-row\"><div class=\"wandb-col\"><h3>Run history:</h3><br/><table class=\"wandb\"><tr><td>epoch</td><td>▁▂▂▃▃▄▅▅▆▆▇▇█</td></tr><tr><td>train/loss</td><td>█▂▂▂▁▁▁▁▁▁▁▃▄</td></tr><tr><td>val/loss</td><td>█▂▁▁▁▁▁▁▁▁▁▇▆</td></tr><tr><td>val/recall@500</td><td>▁▂▄▅▇▇████▇▅▄</td></tr></table><br/></div><div class=\"wandb-col\"><h3>Run summary:</h3><br/><table class=\"wandb\"><tr><td>epoch</td><td>120</td></tr><tr><td>train/loss</td><td>0.42589</td></tr><tr><td>val/loss</td><td>1.1065</td></tr><tr><td>val/recall@500</td><td>0.66163</td></tr></table><br/></div></div>"
      ],
      "text/plain": [
       "<IPython.core.display.HTML object>"
      ]
     },
     "metadata": {},
     "output_type": "display_data"
    },
    {
     "data": {
      "text/html": [
       " View run <strong style=\"color:#cdcd00\">with_clip_features_256d_ae</strong> at: <a href='https://wandb.ai/ronyw/224w-project/runs/lrpyi3dp' target=\"_blank\">https://wandb.ai/ronyw/224w-project/runs/lrpyi3dp</a><br/> View project at: <a href='https://wandb.ai/ronyw/224w-project' target=\"_blank\">https://wandb.ai/ronyw/224w-project</a><br/>Synced 5 W&B file(s), 0 media file(s), 0 artifact file(s) and 0 other file(s)"
      ],
      "text/plain": [
       "<IPython.core.display.HTML object>"
      ]
     },
     "metadata": {},
     "output_type": "display_data"
    },
    {
     "data": {
      "text/html": [
       "Find logs at: <code>./wandb/run-20241212_102715-lrpyi3dp/logs</code>"
      ],
      "text/plain": [
       "<IPython.core.display.HTML object>"
      ]
     },
     "metadata": {},
     "output_type": "display_data"
    },
    {
     "data": {
      "text/html": [
       "Successfully finished last run (ID:lrpyi3dp). Initializing new run:<br/>"
      ],
      "text/plain": [
       "<IPython.core.display.HTML object>"
      ]
     },
     "metadata": {},
     "output_type": "display_data"
    },
    {
     "data": {
      "text/html": [
       "Tracking run with wandb version 0.19.0"
      ],
      "text/plain": [
       "<IPython.core.display.HTML object>"
      ]
     },
     "metadata": {},
     "output_type": "display_data"
    },
    {
     "data": {
      "text/html": [
       "Run data is saved locally in <code>/home/azureuser/cs224w-proj/src/wandb/run-20241212_102744-6dk8hmsy</code>"
      ],
      "text/plain": [
       "<IPython.core.display.HTML object>"
      ]
     },
     "metadata": {},
     "output_type": "display_data"
    },
    {
     "data": {
      "text/html": [
       "Syncing run <strong><a href='https://wandb.ai/ronyw/224w-project/runs/6dk8hmsy' target=\"_blank\">with_clip_features_256d_autoencoder</a></strong> to <a href='https://wandb.ai/ronyw/224w-project' target=\"_blank\">Weights & Biases</a> (<a href='https://wandb.me/developer-guide' target=\"_blank\">docs</a>)<br/>"
      ],
      "text/plain": [
       "<IPython.core.display.HTML object>"
      ]
     },
     "metadata": {},
     "output_type": "display_data"
    },
    {
     "data": {
      "text/html": [
       " View project at <a href='https://wandb.ai/ronyw/224w-project' target=\"_blank\">https://wandb.ai/ronyw/224w-project</a>"
      ],
      "text/plain": [
       "<IPython.core.display.HTML object>"
      ]
     },
     "metadata": {},
     "output_type": "display_data"
    },
    {
     "data": {
      "text/html": [
       " View run at <a href='https://wandb.ai/ronyw/224w-project/runs/6dk8hmsy' target=\"_blank\">https://wandb.ai/ronyw/224w-project/runs/6dk8hmsy</a>"
      ],
      "text/plain": [
       "<IPython.core.display.HTML object>"
      ]
     },
     "metadata": {},
     "output_type": "display_data"
    },
    {
     "name": "stdout",
     "output_type": "stream",
     "text": [
      "Initialized node features\n",
      "Epoch 0, Train loss 0.9538487792015076, Val loss 1.3873658180236816, Val Recall@500 0.5947253704071045\n",
      "Epoch 10, Train loss 0.18000702559947968, Val loss 0.2941206693649292, Val Recall@500 0.6173076033592224\n",
      "Epoch 20, Train loss 0.12912850081920624, Val loss 0.18150368332862854, Val Recall@500 0.6482555866241455\n",
      "Epoch 30, Train loss 0.10966895520687103, Val loss 0.16521963477134705, Val Recall@500 0.6813729405403137\n",
      "Epoch 40, Train loss 0.0867970883846283, Val loss 0.15500664710998535, Val Recall@500 0.7057857513427734\n",
      "Epoch 50, Train loss 0.06884594261646271, Val loss 0.14532436430454254, Val Recall@500 0.7177284955978394\n",
      "Epoch 60, Train loss 0.05708411708474159, Val loss 0.13383503258228302, Val Recall@500 0.7254818081855774\n",
      "Epoch 70, Train loss 0.04921190068125725, Val loss 0.13041947782039642, Val Recall@500 0.7306140065193176\n",
      "Epoch 80, Train loss 0.04276333749294281, Val loss 0.1288333535194397, Val Recall@500 0.7326803207397461\n",
      "Epoch 90, Train loss 0.03878239914774895, Val loss 0.1316252499818802, Val Recall@500 0.7341207265853882\n",
      "Epoch 100, Train loss 0.4294241964817047, Val loss 0.757175862789154, Val Recall@500 0.6938623785972595\n",
      "Epoch 110, Train loss 0.4525397717952728, Val loss 1.291906476020813, Val Recall@500 0.6659724116325378\n",
      "Epoch 120, Train loss 0.12002337723970413, Val loss 0.27314475178718567, Val Recall@500 0.6650834083557129\n"
     ]
    }
   ],
   "source": [
    "run = wandb.init(\n",
    "    project=\"224w-project\",\n",
    "    config={'clip_features': model.has_clip_features},\n",
    "    reinit=True,\n",
    "    name=f'with_clip_features_{N_DIM}d_autoencoder'\n",
    ")\n",
    "\n",
    "device = torch.device(\"cuda\" if torch.cuda.is_available() else \"cpu\")\n",
    "model = LightGCN(num_nodes, N_DIM, num_layers = 3, has_clip_features = True).to(device)\n",
    "optimizer = torch.optim.Adam(model.parameters(), lr=0.5, weight_decay=1e-5)\n",
    "\n",
    "train_split.to(device)\n",
    "val_split.to(device)\n",
    "\n",
    "if model.has_clip_features:\n",
    "    model.initialize_clip_features(compressed_features)\n",
    "    print(\"Initialized node features\")\n",
    "\n",
    "train(model, optimizer, train_split, val_split, num_epochs=121, run=run)"
   ]
  }
 ],
 "metadata": {
  "kernelspec": {
   "display_name": "gnn",
   "language": "python",
   "name": "python3"
  },
  "language_info": {
   "codemirror_mode": {
    "name": "ipython",
    "version": 3
   },
   "file_extension": ".py",
   "mimetype": "text/x-python",
   "name": "python",
   "nbconvert_exporter": "python",
   "pygments_lexer": "ipython3",
   "version": "3.10.15"
  }
 },
 "nbformat": 4,
 "nbformat_minor": 2
}
